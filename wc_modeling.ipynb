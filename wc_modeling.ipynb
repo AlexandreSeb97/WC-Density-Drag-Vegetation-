{
 "cells": [
  {
   "cell_type": "markdown",
   "metadata": {},
   "source": [
    "# Water Column Modelling for USGS"
   ]
  },
  {
   "cell_type": "code",
   "execution_count": null,
   "metadata": {},
   "outputs": [],
   "source": [
    "# Import water column model class and components\n",
    "from water_column_model.column import Column\n",
    "from water_column_model.advance import *\n",
    "from water_column_model.params import *\n",
    "from water_column_model.params import A,B,C,E\n",
    "# Data Science and Visualization Imports\n",
    "import pandas as pd\n",
    "import xarray as xr\n",
    "import numpy as np\n",
    "# Miscellaneous\n",
    "from tqdm import tqdm\n",
    "\n",
    "from IPython.core.interactiveshell import InteractiveShell\n",
    "InteractiveShell.ast_node_interactivity = 'all'"
   ]
  },
  {
   "attachments": {},
   "cell_type": "markdown",
   "metadata": {},
   "source": [
    "Importing USGS Data"
   ]
  },
  {
   "cell_type": "code",
   "execution_count": null,
   "metadata": {},
   "outputs": [],
   "source": [
    "filename = 'data/USGS_veg_density.csv'\n",
    "wcolumns = pd.read_csv(filename)"
   ]
  },
  {
   "attachments": {},
   "cell_type": "markdown",
   "metadata": {},
   "source": [
    "Setting Water Column Heights"
   ]
  },
  {
   "cell_type": "code",
   "execution_count": null,
   "metadata": {},
   "outputs": [],
   "source": [
    "#  (arbitrary for now, but based on average tidal height)\n",
    "H = 2.8072 # meters\n",
    "\n",
    "# Adjusting Tide level to topography (elevation) for correct water column height for each site\n",
    "wcolumns['wc_height'] = H - wcolumns['Elevation'] # meters\n",
    "\n",
    "# Pulling parameters\n",
    "params = [A, B, C, Sq, kappa, nu, g, rho0, alpha]\n",
    "\n",
    "#wcolumns = wcolumns.sample(5)"
   ]
  },
  {
   "attachments": {},
   "cell_type": "markdown",
   "metadata": {},
   "source": [
    "Dropping out unstable cases"
   ]
  },
  {
   "cell_type": "code",
   "execution_count": null,
   "metadata": {},
   "outputs": [],
   "source": [
    "wcolumns['dz'] = wcolumns['wc_height']/80\n",
    "nu = 1e-6\n",
    "dt = 60\n",
    "wcolumns['stable'] = (wcolumns['dz'])**2 / nu >= dt\n",
    "# Only keeping stable cases\n",
    "wcolumns = wcolumns.loc[wcolumns['stable'] == True]\n",
    "#wcolumns = wcolumns.sample(5)\n",
    "wcolumns"
   ]
  },
  {
   "attachments": {},
   "cell_type": "markdown",
   "metadata": {},
   "source": [
    "Column Initialization and Time Stepping Function"
   ]
  },
  {
   "cell_type": "code",
   "execution_count": null,
   "metadata": {},
   "outputs": [],
   "source": [
    "# for a given set of parameteres, create a column, run the model and return Flow Properties\n",
    "def run_column_model(N, H, L, SMALL, params, veg_density, veg_ht, density_alpha):\n",
    "    # Initializing Column Object\n",
    "    col = Column(N, H, L, SMALL)\n",
    "    A = params[0]\n",
    "    B = params[1]\n",
    "    C = params[2]\n",
    "    Sq = params[3]\n",
    "    kappa = params[4]\n",
    "    nu = params[5]\n",
    "    g = params[6]\n",
    "    rho0 = params[7]\n",
    "    alpha = params[8]\n",
    "    # Setting up vlaues and importing Vegetation Distribution from Data\n",
    "    col = col.setup(A, B, C, Sq, kappa, SMALL, nu, g, rho0, alpha)\n",
    "    col = col.import_veg(density_alpha, veg_density, veg_ht)\n",
    "    \n",
    "    # Running Model for Col.M amount of time (See Column Class to change M)\n",
    "    t = [] \n",
    "    for i in tqdm(range(col.M), leave=False):\n",
    "        t.append(col.dt*(i))\n",
    "        # Unew, Cnew, Qnew, Q2new, Q2Lnew, rhonew, Lnew, nu_tnew, Kznew, Kqnew, N_BVnew, N_BVsqnew\n",
    "        [col.U, col.scalar, col.Q, col.Q2, col.Q2L, col.rho, col.L, col.nu_t, col.Kz, col.Kq, col.N_BV, col.N_BVsq] = wc_advance(col, t_px, px0, t[i])\n",
    "        # Have TQDM instead print('Step! t=' +str(t[i])+'s')\n",
    "    ### Only for now ### Return Velocity Profile ### Will implement returning more later\n",
    "    col_res = pd.DataFrame({'U Velocity':col.U,\n",
    "                            'Q':col.Q,\n",
    "                            'Q2':col.Q2,\n",
    "                            'Q2L':col.Q2L,\n",
    "                            'Z':col.z,\n",
    "                            'Kq':col.Kq,\n",
    "                            'nu_t':col.nu_t,\n",
    "                            })\n",
    "    return col_res"
   ]
  },
  {
   "cell_type": "markdown",
   "metadata": {},
   "source": [
    "Model Runs Function"
   ]
  },
  {
   "cell_type": "code",
   "execution_count": null,
   "metadata": {},
   "outputs": [],
   "source": [
    "def run_collection(n_runs, alpha_list):\n",
    "    \n",
    "    export_baseline = 'model_runs/baseline_wc_full.nc'\n",
    "    export_runs = 'model_runs/'\n",
    "    \n",
    "    # Making new dataframes for specific sites\n",
    "    wcol_bay = wcolumns[wcolumns['site'] == 'Bay']\n",
    "    wcol_int = wcolumns[wcolumns['site'] == 'Interior']\n",
    "    wcol_creek = wcolumns[wcolumns['site'] == 'Creek']\n",
    "\n",
    "    # Running and exporting water column model for base case\n",
    "    col_res_base = wcolumns.apply(lambda x: run_column_model(80,(x.wc_height),0,SMALL,params,x.density_final,(x.ave_ht),density_alpha=0), axis=1)\n",
    "    ds_base = xr.concat([df.to_xarray() for df in col_res_base], dim=\"Model Runs\")\n",
    "    ds_base = ds_base.assign_attrs(description='Base Model run results for all sites.')    \n",
    "    ds_base.to_netcdf(path=export_baseline, mode='w')\n",
    "\n",
    "    # Running and exporting water column model for vegetated cases\n",
    "    for i in tqdm(range(n_runs), leave=False):\n",
    "        \n",
    "        alpha_ask = alpha_list[i]\n",
    "        # Initializing and running water column model for each entry\n",
    "        col_res_all = wcol_bay.apply(lambda x: run_column_model(80,(x.wc_height),0,SMALL,params,x.density_final,(x.ave_ht),alpha_ask), axis=1)\n",
    "        col_res_bay = wcol_bay.apply(lambda x: run_column_model(80,(x.wc_height),0,SMALL,params,x.density_final,(x.ave_ht),alpha_ask), axis=1)\n",
    "        col_res_creek = wcol_creek.apply(lambda x: run_column_model(80,(x.wc_height),0,SMALL,params,x.density_final,(x.ave_ht),alpha_ask), axis=1)\n",
    "        col_res_interior = wcol_int.apply(lambda x: run_column_model(80,(x.wc_height),0,SMALL,params,x.density_final,(x.ave_ht),alpha_ask), axis=1)\n",
    "  \n",
    "        # Turning results into xArray for easy visualization and manip\n",
    "        ds_all = xr.concat([df.to_xarray() for df in col_res_all], dim=\"Model Runs\")\n",
    "        ds_all = ds_all.assign_attrs(description='Model run results for all sites.')\n",
    "\n",
    "        ds_bay = xr.concat([df.to_xarray() for df in col_res_bay], dim=\"Model Runs\")\n",
    "        ds_bay = ds_bay.assign_attrs(description='Model run results for Bay site.')\n",
    "\n",
    "        ds_creek = xr.concat([df.to_xarray() for df in col_res_creek], dim=\"Model Runs\")\n",
    "        ds_creek = ds_creek.assign_attrs(description='Model run results for Creek site.')\n",
    "\n",
    "        ds_int = xr.concat([df.to_xarray() for df in col_res_interior], dim=\"Model Runs\")\n",
    "        ds_int = ds_int.assign_attrs(description='Model run results for Interior site.')\n",
    "\n",
    "        # Export model runs    \n",
    "        ds_all.to_netcdf(path=export_runs+'_wc_all_'+str(i)+'.nc', mode='w')\n",
    "        ds_bay.to_netcdf(path=export_runs+'_wc_bay_'+str(i)+'.nc', mode='w')\n",
    "        ds_creek.to_netcdf(path=export_runs+'_wc_creek_'+str(i)+'.nc', mode='w')\n",
    "        ds_int.to_netcdf(path=export_runs+'_wc_interior_'+str(i)+'.nc', mode='w')"
   ]
  },
  {
   "cell_type": "code",
   "execution_count": null,
   "metadata": {},
   "outputs": [],
   "source": [
    "wcol_bay = wcolumns[wcolumns['site'] == 'Bay']\n",
    "col_res_all = run_column_model(80,(wcol_bay.iloc[0].wc_height),0,SMALL,params,wcol_bay.iloc[0].density_final,(wcol_bay.iloc[0].ave_ht),0.1)"
   ]
  },
  {
   "cell_type": "code",
   "execution_count": null,
   "metadata": {},
   "outputs": [],
   "source": [
    "# number of elements\n",
    "n = int(input(\"Enter number of model runs : \"))\n",
    "# Different alpha will be asked for every new run\n",
    "alpha_list = list(map(float,input(\"\\nInput \" + str(n) + \" LIST of values [0-1] for alpha density coefficient: : \").strip().split()))[:n]\n",
    "\n",
    "run_collection(n, alpha_list)"
   ]
  }
 ],
 "metadata": {
  "kernelspec": {
   "display_name": "RemoteSensing-DataScience",
   "language": "python",
   "name": "python3"
  },
  "language_info": {
   "codemirror_mode": {
    "name": "ipython",
    "version": 3
   },
   "file_extension": ".py",
   "mimetype": "text/x-python",
   "name": "python",
   "nbconvert_exporter": "python",
   "pygments_lexer": "ipython3",
   "version": "3.9.13"
  },
  "orig_nbformat": 4,
  "vscode": {
   "interpreter": {
    "hash": "d29cead0ac10c77f5148a0de6a0502ec179540721374c9c0ac26d58b6ebaefe8"
   }
  }
 },
 "nbformat": 4,
 "nbformat_minor": 2
}
